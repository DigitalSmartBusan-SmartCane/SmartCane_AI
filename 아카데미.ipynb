{
 "cells": [
  {
   "cell_type": "markdown",
   "metadata": {},
   "source": [
    "### 49"
   ]
  },
  {
   "cell_type": "code",
   "execution_count": 22,
   "metadata": {},
   "outputs": [
    {
     "ename": "ValueError",
     "evalue": "All arrays must be of the same length",
     "output_type": "error",
     "traceback": [
      "\u001b[1;31m---------------------------------------------------------------------------\u001b[0m",
      "\u001b[1;31mValueError\u001b[0m                                Traceback (most recent call last)",
      "Cell \u001b[1;32mIn[22], line 30\u001b[0m\n\u001b[0;32m     26\u001b[0m data_dict \u001b[38;5;241m=\u001b[39m {k: v \u001b[38;5;28;01mfor\u001b[39;00m k, v \u001b[38;5;129;01min\u001b[39;00m data_dict\u001b[38;5;241m.\u001b[39mitems() \u001b[38;5;28;01mif\u001b[39;00m v \u001b[38;5;129;01mis\u001b[39;00m \u001b[38;5;129;01mnot\u001b[39;00m \u001b[38;5;28;01mNone\u001b[39;00m}\n\u001b[0;32m     29\u001b[0m \u001b[38;5;66;03m# DataFrame 생성\u001b[39;00m\n\u001b[1;32m---> 30\u001b[0m df \u001b[38;5;241m=\u001b[39m pd\u001b[38;5;241m.\u001b[39mDataFrame(data_dict)\n\u001b[0;32m     32\u001b[0m \u001b[38;5;66;03m# DataFrame 미리보기\u001b[39;00m\n\u001b[0;32m     33\u001b[0m \u001b[38;5;28mprint\u001b[39m(df\u001b[38;5;241m.\u001b[39mhead())\n",
      "File \u001b[1;32mc:\\Users\\Admin\\anaconda3\\Lib\\site-packages\\pandas\\core\\frame.py:778\u001b[0m, in \u001b[0;36mDataFrame.__init__\u001b[1;34m(self, data, index, columns, dtype, copy)\u001b[0m\n\u001b[0;32m    772\u001b[0m     mgr \u001b[38;5;241m=\u001b[39m \u001b[38;5;28mself\u001b[39m\u001b[38;5;241m.\u001b[39m_init_mgr(\n\u001b[0;32m    773\u001b[0m         data, axes\u001b[38;5;241m=\u001b[39m{\u001b[38;5;124m\"\u001b[39m\u001b[38;5;124mindex\u001b[39m\u001b[38;5;124m\"\u001b[39m: index, \u001b[38;5;124m\"\u001b[39m\u001b[38;5;124mcolumns\u001b[39m\u001b[38;5;124m\"\u001b[39m: columns}, dtype\u001b[38;5;241m=\u001b[39mdtype, copy\u001b[38;5;241m=\u001b[39mcopy\n\u001b[0;32m    774\u001b[0m     )\n\u001b[0;32m    776\u001b[0m \u001b[38;5;28;01melif\u001b[39;00m \u001b[38;5;28misinstance\u001b[39m(data, \u001b[38;5;28mdict\u001b[39m):\n\u001b[0;32m    777\u001b[0m     \u001b[38;5;66;03m# GH#38939 de facto copy defaults to False only in non-dict cases\u001b[39;00m\n\u001b[1;32m--> 778\u001b[0m     mgr \u001b[38;5;241m=\u001b[39m dict_to_mgr(data, index, columns, dtype\u001b[38;5;241m=\u001b[39mdtype, copy\u001b[38;5;241m=\u001b[39mcopy, typ\u001b[38;5;241m=\u001b[39mmanager)\n\u001b[0;32m    779\u001b[0m \u001b[38;5;28;01melif\u001b[39;00m \u001b[38;5;28misinstance\u001b[39m(data, ma\u001b[38;5;241m.\u001b[39mMaskedArray):\n\u001b[0;32m    780\u001b[0m     \u001b[38;5;28;01mfrom\u001b[39;00m \u001b[38;5;21;01mnumpy\u001b[39;00m\u001b[38;5;21;01m.\u001b[39;00m\u001b[38;5;21;01mma\u001b[39;00m \u001b[38;5;28;01mimport\u001b[39;00m mrecords\n",
      "File \u001b[1;32mc:\\Users\\Admin\\anaconda3\\Lib\\site-packages\\pandas\\core\\internals\\construction.py:503\u001b[0m, in \u001b[0;36mdict_to_mgr\u001b[1;34m(data, index, columns, dtype, typ, copy)\u001b[0m\n\u001b[0;32m    499\u001b[0m     \u001b[38;5;28;01melse\u001b[39;00m:\n\u001b[0;32m    500\u001b[0m         \u001b[38;5;66;03m# dtype check to exclude e.g. range objects, scalars\u001b[39;00m\n\u001b[0;32m    501\u001b[0m         arrays \u001b[38;5;241m=\u001b[39m [x\u001b[38;5;241m.\u001b[39mcopy() \u001b[38;5;28;01mif\u001b[39;00m \u001b[38;5;28mhasattr\u001b[39m(x, \u001b[38;5;124m\"\u001b[39m\u001b[38;5;124mdtype\u001b[39m\u001b[38;5;124m\"\u001b[39m) \u001b[38;5;28;01melse\u001b[39;00m x \u001b[38;5;28;01mfor\u001b[39;00m x \u001b[38;5;129;01min\u001b[39;00m arrays]\n\u001b[1;32m--> 503\u001b[0m \u001b[38;5;28;01mreturn\u001b[39;00m arrays_to_mgr(arrays, columns, index, dtype\u001b[38;5;241m=\u001b[39mdtype, typ\u001b[38;5;241m=\u001b[39mtyp, consolidate\u001b[38;5;241m=\u001b[39mcopy)\n",
      "File \u001b[1;32mc:\\Users\\Admin\\anaconda3\\Lib\\site-packages\\pandas\\core\\internals\\construction.py:114\u001b[0m, in \u001b[0;36marrays_to_mgr\u001b[1;34m(arrays, columns, index, dtype, verify_integrity, typ, consolidate)\u001b[0m\n\u001b[0;32m    111\u001b[0m \u001b[38;5;28;01mif\u001b[39;00m verify_integrity:\n\u001b[0;32m    112\u001b[0m     \u001b[38;5;66;03m# figure out the index, if necessary\u001b[39;00m\n\u001b[0;32m    113\u001b[0m     \u001b[38;5;28;01mif\u001b[39;00m index \u001b[38;5;129;01mis\u001b[39;00m \u001b[38;5;28;01mNone\u001b[39;00m:\n\u001b[1;32m--> 114\u001b[0m         index \u001b[38;5;241m=\u001b[39m _extract_index(arrays)\n\u001b[0;32m    115\u001b[0m     \u001b[38;5;28;01melse\u001b[39;00m:\n\u001b[0;32m    116\u001b[0m         index \u001b[38;5;241m=\u001b[39m ensure_index(index)\n",
      "File \u001b[1;32mc:\\Users\\Admin\\anaconda3\\Lib\\site-packages\\pandas\\core\\internals\\construction.py:677\u001b[0m, in \u001b[0;36m_extract_index\u001b[1;34m(data)\u001b[0m\n\u001b[0;32m    675\u001b[0m lengths \u001b[38;5;241m=\u001b[39m \u001b[38;5;28mlist\u001b[39m(\u001b[38;5;28mset\u001b[39m(raw_lengths))\n\u001b[0;32m    676\u001b[0m \u001b[38;5;28;01mif\u001b[39;00m \u001b[38;5;28mlen\u001b[39m(lengths) \u001b[38;5;241m>\u001b[39m \u001b[38;5;241m1\u001b[39m:\n\u001b[1;32m--> 677\u001b[0m     \u001b[38;5;28;01mraise\u001b[39;00m \u001b[38;5;167;01mValueError\u001b[39;00m(\u001b[38;5;124m\"\u001b[39m\u001b[38;5;124mAll arrays must be of the same length\u001b[39m\u001b[38;5;124m\"\u001b[39m)\n\u001b[0;32m    679\u001b[0m \u001b[38;5;28;01mif\u001b[39;00m have_dicts:\n\u001b[0;32m    680\u001b[0m     \u001b[38;5;28;01mraise\u001b[39;00m \u001b[38;5;167;01mValueError\u001b[39;00m(\n\u001b[0;32m    681\u001b[0m         \u001b[38;5;124m\"\u001b[39m\u001b[38;5;124mMixing dicts with non-Series may lead to ambiguous ordering.\u001b[39m\u001b[38;5;124m\"\u001b[39m\n\u001b[0;32m    682\u001b[0m     )\n",
      "\u001b[1;31mValueError\u001b[0m: All arrays must be of the same length"
     ]
    }
   ],
   "source": [
    "import pandas as pd\n",
    "from scipy.io import loadmat\n",
    "\n",
    "# .mat 파일 불러오기\n",
    "file_path = 'C:\\\\Users\\\\Admin\\\\Downloads\\\\5.+Battery+Data+Set\\\\5. Battery Data Set\\\\2. BatteryAgingARC_25_26_27_28_P1\\\\B0025.mat'  # 실제 파일 경로로 변경\n",
    "data = loadmat(file_path)\n",
    "\n",
    "# 'B0049' 항목 접근\n",
    "data_b0025 = data['B0025']\n",
    "\n",
    "# 'cycle' -> 'data' 부분 접근\n",
    "data_entries = data_b0025[0, 0]['cycle'][0][0]['data']\n",
    "\n",
    "# 'Capacity' 필드를 제외하고 나머지 필드를 추출하여 DataFrame으로 변환\n",
    "data_dict = {\n",
    "    \"Sense_current\": data_entries['Sense_current'][0][0].flatten() if 'Sense_current' in data_entries.dtype.names else None,\n",
    "    \"Battery_current\": data_entries['Battery_current'][0][0].flatten() if 'Battery_current' in data_entries.dtype.names else None,\n",
    "    \"Current_ratio\": data_entries['Current_ratio'][0][0].flatten() if 'Current_ratio' in data_entries.dtype.names else None,\n",
    "    \"Battery_impedance\": data_entries['Battery_impedance'][0][0].flatten() if 'Battery_impedance' in data_entries.dtype.names else None,\n",
    "    \"Rectified_Impedance\": data_entries['Rectified_Impedance'][0][0].flatten() if 'Rectified_Impedance' in data_entries.dtype.names else None,\n",
    "    \"Re\": data_entries['Re'][0][0].flatten() if 'Re' in data_entries.dtype.names else None,\n",
    "    \"Rct\": data_entries['Rct'][0][0].flatten() if 'Rct' in data_entries.dtype.names else None\n",
    "}\n",
    "\n",
    "# Remove fields with None values\n",
    "data_dict = {k: v for k, v in data_dict.items() if v is not None}\n",
    "\n",
    "\n",
    "# DataFrame 생성\n",
    "df = pd.DataFrame(data_dict)\n",
    "\n",
    "# DataFrame 미리보기\n",
    "print(df.head())"
   ]
  },
  {
   "cell_type": "code",
   "execution_count": 21,
   "metadata": {},
   "outputs": [
    {
     "name": "stdout",
     "output_type": "stream",
     "text": [
      "('Sense_current', 'Battery_current', 'Current_ratio', 'Battery_impedance', 'Rectified_Impedance', 'Re', 'Rct')\n"
     ]
    }
   ],
   "source": [
    "print(data_entries.dtype.names)\n"
   ]
  },
  {
   "cell_type": "code",
   "execution_count": null,
   "metadata": {},
   "outputs": [],
   "source": []
  },
  {
   "cell_type": "code",
   "execution_count": null,
   "metadata": {},
   "outputs": [],
   "source": []
  },
  {
   "cell_type": "code",
   "execution_count": 17,
   "metadata": {},
   "outputs": [
    {
     "name": "stdout",
     "output_type": "stream",
     "text": [
      "DataFrame이 CSV 파일로 저장되었습니다: C:\\LEE\\SOH\\SOH18.csv\n"
     ]
    }
   ],
   "source": [
    "# DataFrame을 CSV 파일로 저장\n",
    "output_file_path = 'C:\\\\LEE\\\\SOH\\\\SOH18.csv'  # 저장할 CSV 파일 경로와 이름 지정\n",
    "df.to_csv(output_file_path, index=False)\n",
    "\n",
    "print(f\"DataFrame이 CSV 파일로 저장되었습니다: {output_file_path}\")\n"
   ]
  },
  {
   "cell_type": "markdown",
   "metadata": {},
   "source": [
    "### 50"
   ]
  },
  {
   "cell_type": "code",
   "execution_count": 72,
   "metadata": {},
   "outputs": [
    {
     "name": "stderr",
     "output_type": "stream",
     "text": [
      "<>:5: SyntaxWarning: invalid escape sequence '\\D'\n",
      "<>:5: SyntaxWarning: invalid escape sequence '\\D'\n",
      "C:\\Users\\Admin\\AppData\\Local\\Temp\\ipykernel_18824\\1841623492.py:5: SyntaxWarning: invalid escape sequence '\\D'\n",
      "  file_path = 'C:\\\\Users\\\\Admin\\Downloads\\\\5.+Battery+Data+Set\\\\5. Battery Data Set\\\\3. BatteryAgingARC_25-44\\\\B0029.mat'  # 실제 파일 경로로 변경\n",
      "C:\\Users\\Admin\\AppData\\Local\\Temp\\ipykernel_18824\\1841623492.py:5: SyntaxWarning: invalid escape sequence '\\D'\n",
      "  file_path = 'C:\\\\Users\\\\Admin\\Downloads\\\\5.+Battery+Data+Set\\\\5. Battery Data Set\\\\3. BatteryAgingARC_25-44\\\\B0029.mat'  # 실제 파일 경로로 변경\n"
     ]
    },
    {
     "ename": "ValueError",
     "evalue": "no field of name Voltage_measured",
     "output_type": "error",
     "traceback": [
      "\u001b[1;31m---------------------------------------------------------------------------\u001b[0m",
      "\u001b[1;31mValueError\u001b[0m                                Traceback (most recent call last)",
      "Cell \u001b[1;32mIn[72], line 16\u001b[0m\n\u001b[0;32m     12\u001b[0m data_entries \u001b[38;5;241m=\u001b[39m data_b0029[\u001b[38;5;241m0\u001b[39m, \u001b[38;5;241m0\u001b[39m][\u001b[38;5;124m'\u001b[39m\u001b[38;5;124mcycle\u001b[39m\u001b[38;5;124m'\u001b[39m][\u001b[38;5;241m0\u001b[39m][\u001b[38;5;241m0\u001b[39m][\u001b[38;5;124m'\u001b[39m\u001b[38;5;124mdata\u001b[39m\u001b[38;5;124m'\u001b[39m]\n\u001b[0;32m     14\u001b[0m \u001b[38;5;66;03m# 'Capacity' 필드를 제외하고 나머지 필드를 추출하여 DataFrame으로 변환\u001b[39;00m\n\u001b[0;32m     15\u001b[0m data_dict \u001b[38;5;241m=\u001b[39m {\n\u001b[1;32m---> 16\u001b[0m     \u001b[38;5;124m\"\u001b[39m\u001b[38;5;124mVoltage_measured\u001b[39m\u001b[38;5;124m\"\u001b[39m: data_entries[\u001b[38;5;124m'\u001b[39m\u001b[38;5;124mVoltage_measured\u001b[39m\u001b[38;5;124m'\u001b[39m][\u001b[38;5;241m0\u001b[39m][\u001b[38;5;241m0\u001b[39m]\u001b[38;5;241m.\u001b[39mflatten(),\n\u001b[0;32m     17\u001b[0m     \u001b[38;5;124m\"\u001b[39m\u001b[38;5;124mCurrent_measured\u001b[39m\u001b[38;5;124m\"\u001b[39m: data_entries[\u001b[38;5;124m'\u001b[39m\u001b[38;5;124mCurrent_measured\u001b[39m\u001b[38;5;124m'\u001b[39m][\u001b[38;5;241m0\u001b[39m][\u001b[38;5;241m0\u001b[39m]\u001b[38;5;241m.\u001b[39mflatten(),\n\u001b[0;32m     18\u001b[0m     \u001b[38;5;124m\"\u001b[39m\u001b[38;5;124mTemperature_measured\u001b[39m\u001b[38;5;124m\"\u001b[39m: data_entries[\u001b[38;5;124m'\u001b[39m\u001b[38;5;124mTemperature_measured\u001b[39m\u001b[38;5;124m'\u001b[39m][\u001b[38;5;241m0\u001b[39m][\u001b[38;5;241m0\u001b[39m]\u001b[38;5;241m.\u001b[39mflatten(),\n\u001b[0;32m     19\u001b[0m     \u001b[38;5;124m\"\u001b[39m\u001b[38;5;124mCurrent_load\u001b[39m\u001b[38;5;124m\"\u001b[39m: data_entries[\u001b[38;5;124m'\u001b[39m\u001b[38;5;124mCurrent_load\u001b[39m\u001b[38;5;124m'\u001b[39m][\u001b[38;5;241m0\u001b[39m][\u001b[38;5;241m0\u001b[39m]\u001b[38;5;241m.\u001b[39mflatten(),\n\u001b[0;32m     20\u001b[0m     \u001b[38;5;124m\"\u001b[39m\u001b[38;5;124mVoltage_load\u001b[39m\u001b[38;5;124m\"\u001b[39m: data_entries[\u001b[38;5;124m'\u001b[39m\u001b[38;5;124mVoltage_load\u001b[39m\u001b[38;5;124m'\u001b[39m][\u001b[38;5;241m0\u001b[39m][\u001b[38;5;241m0\u001b[39m]\u001b[38;5;241m.\u001b[39mflatten(),\n\u001b[0;32m     21\u001b[0m     \u001b[38;5;124m\"\u001b[39m\u001b[38;5;124mTime\u001b[39m\u001b[38;5;124m\"\u001b[39m: data_entries[\u001b[38;5;124m'\u001b[39m\u001b[38;5;124mTime\u001b[39m\u001b[38;5;124m'\u001b[39m][\u001b[38;5;241m0\u001b[39m][\u001b[38;5;241m0\u001b[39m]\u001b[38;5;241m.\u001b[39mflatten()\n\u001b[0;32m     22\u001b[0m }\n\u001b[0;32m     24\u001b[0m \u001b[38;5;66;03m# DataFrame 생성\u001b[39;00m\n\u001b[0;32m     25\u001b[0m df \u001b[38;5;241m=\u001b[39m pd\u001b[38;5;241m.\u001b[39mDataFrame(data_dict)\n",
      "\u001b[1;31mValueError\u001b[0m: no field of name Voltage_measured"
     ]
    }
   ],
   "source": [
    "import pandas as pd\n",
    "from scipy.io import loadmat\n",
    "\n",
    "# .mat 파일 불러오기\n",
    "file_path = 'C:\\\\Users\\\\Admin\\Downloads\\\\5.+Battery+Data+Set\\\\5. Battery Data Set\\\\3. BatteryAgingARC_25-44\\\\B0029.mat'  # 실제 파일 경로로 변경\n",
    "data = loadmat(file_path)\n",
    "\n",
    "# 'B0049' 항목 접근\n",
    "data_b0029 = data['B0029']\n",
    "\n",
    "# 'cycle' -> 'data' 부분 접근\n",
    "data_entries = data_b0029[0, 0]['cycle'][0][0]['data']\n",
    "\n",
    "# 'Capacity' 필드를 제외하고 나머지 필드를 추출하여 DataFrame으로 변환\n",
    "data_dict = {\n",
    "    \"Voltage_measured\": data_entries['Voltage_measured'][0][0].flatten(),\n",
    "    \"Current_measured\": data_entries['Current_measured'][0][0].flatten(),\n",
    "    \"Temperature_measured\": data_entries['Temperature_measured'][0][0].flatten(),\n",
    "    \"Current_load\": data_entries['Current_load'][0][0].flatten(),\n",
    "    \"Voltage_load\": data_entries['Voltage_load'][0][0].flatten(),\n",
    "    \"Time\": data_entries['Time'][0][0].flatten()\n",
    "}\n",
    "\n",
    "# DataFrame 생성\n",
    "df = pd.DataFrame(data_dict)\n",
    "\n",
    "# DataFrame 미리보기\n",
    "print(df.head())"
   ]
  },
  {
   "cell_type": "code",
   "execution_count": 3,
   "metadata": {},
   "outputs": [
    {
     "name": "stdout",
     "output_type": "stream",
     "text": [
      "DataFrame이 CSV 파일로 저장되었습니다: C:\\LEE\\SOH50.csv\n"
     ]
    }
   ],
   "source": [
    "# DataFrame을 CSV 파일로 저장\n",
    "output_file_path = 'C:\\\\LEE\\\\SOH\\\\SOH50.csv'  # 저장할 CSV 파일 경로와 이름 지정\n",
    "df.to_csv(output_file_path, index=False)\n",
    "\n",
    "print(f\"DataFrame이 CSV 파일로 저장되었습니다: {output_file_path}\")"
   ]
  },
  {
   "cell_type": "code",
   "execution_count": 74,
   "metadata": {},
   "outputs": [
    {
     "name": "stdout",
     "output_type": "stream",
     "text": [
      "Available fields: ('Sense_current', 'Battery_current', 'Current_ratio', 'Battery_impedance', 'Rectified_Impedance', 'Re', 'Rct')\n",
      "No available data fields for DataFrame creation.\n",
      "            Sense_current         Battery_current       Current_ratio  \\\n",
      "0  864.849915- 33.304897j  292.906494- 84.523552j  2.755966+0.681580j   \n",
      "\n",
      "    Battery_impedance        Re       Rct  \n",
      "0  0.142920-0.119109j  0.050642  0.105922  \n"
     ]
    },
    {
     "name": "stderr",
     "output_type": "stream",
     "text": [
      "<>:5: SyntaxWarning: invalid escape sequence '\\D'\n",
      "<>:5: SyntaxWarning: invalid escape sequence '\\D'\n",
      "C:\\Users\\Admin\\AppData\\Local\\Temp\\ipykernel_18824\\1634997362.py:5: SyntaxWarning: invalid escape sequence '\\D'\n",
      "  file_path = 'C:\\\\Users\\\\Admin\\Downloads\\\\5.+Battery+Data+Set\\\\5. Battery Data Set\\\\3. BatteryAgingARC_25-44\\\\B0029.mat'  # 실제 파일 경로로 변경\n"
     ]
    }
   ],
   "source": [
    "import pandas as pd\n",
    "from scipy.io import loadmat\n",
    "\n",
    "# .mat 파일 불러오기\n",
    "file_path = 'C:\\\\Users\\\\Admin\\Downloads\\\\5.+Battery+Data+Set\\\\5. Battery Data Set\\\\3. BatteryAgingARC_25-44\\\\B0029.mat'  # 실제 파일 경로로 변경\n",
    "data = loadmat(file_path)\n",
    "\n",
    "# 'B0049' 항목 접근\n",
    "data_b0029 = data['B0029']\n",
    "\n",
    "# 'cycle' -> 'data' 부분 접근\n",
    "data_entries = data_b0029[0, 0]['cycle'][0][0]['data']\n",
    "\n",
    "\n",
    "# Check the available fields in data_entries\n",
    "available_fields = data_entries.dtype.names\n",
    "print(\"Available fields:\", available_fields)\n",
    "\n",
    "# Initialize data_dict based on available fields\n",
    "data_dict = {}\n",
    "\n",
    "if 'Voltage_measured' in available_fields:\n",
    "    data_dict[\"Voltage_measured\"] = data_entries['Voltage_measured'][0][0].flatten()\n",
    "if 'Current_measured' in available_fields:\n",
    "    data_dict[\"Current_measured\"] = data_entries['Current_measured'][0][0].flatten()\n",
    "if 'Temperature_measured' in available_fields:\n",
    "    data_dict[\"Temperature_measured\"] = data_entries['Temperature_measured'][0][0].flatten()\n",
    "if 'Current_load' in available_fields:\n",
    "    data_dict[\"Current_load\"] = data_entries['Current_load'][0][0].flatten()\n",
    "if 'Voltage_load' in available_fields:\n",
    "    data_dict[\"Voltage_load\"] = data_entries['Voltage_load'][0][0].flatten()\n",
    "if 'Time' in available_fields:\n",
    "    data_dict[\"Time\"] = data_entries['Time'][0][0].flatten()\n",
    "\n",
    "# Check if data_dict has any data\n",
    "if data_dict:\n",
    "    # Align lengths if arrays have different lengths\n",
    "    min_length = min(len(arr) for arr in data_dict.values())\n",
    "    for key in data_dict:\n",
    "        data_dict[key] = data_dict[key][:min_length]\n",
    "    \n",
    "    # Create DataFrame\n",
    "    df = pd.DataFrame(data_dict)\n",
    "    print(df)\n",
    "else:\n",
    "    print(\"No available data fields for DataFrame creation.\")\n",
    "\n",
    "print(df)\n"
   ]
  },
  {
   "cell_type": "code",
   "execution_count": 69,
   "metadata": {},
   "outputs": [
    {
     "name": "stderr",
     "output_type": "stream",
     "text": [
      "<>:5: SyntaxWarning: invalid escape sequence '\\D'\n",
      "<>:5: SyntaxWarning: invalid escape sequence '\\D'\n",
      "C:\\Users\\Admin\\AppData\\Local\\Temp\\ipykernel_18824\\863182309.py:5: SyntaxWarning: invalid escape sequence '\\D'\n",
      "  file_path = 'C:\\\\Users\\\\Admin\\Downloads\\\\5.+Battery+Data+Set\\\\5. Battery Data Set\\\\3. BatteryAgingARC_25-44\\\\B0029.mat'  # 실제 파일 경로로 변경\n",
      "C:\\Users\\Admin\\AppData\\Local\\Temp\\ipykernel_18824\\863182309.py:5: SyntaxWarning: invalid escape sequence '\\D'\n",
      "  file_path = 'C:\\\\Users\\\\Admin\\Downloads\\\\5.+Battery+Data+Set\\\\5. Battery Data Set\\\\3. BatteryAgingARC_25-44\\\\B0029.mat'  # 실제 파일 경로로 변경\n"
     ]
    },
    {
     "ename": "ValueError",
     "evalue": "All arrays must be of the same length",
     "output_type": "error",
     "traceback": [
      "\u001b[1;31m---------------------------------------------------------------------------\u001b[0m",
      "\u001b[1;31mValueError\u001b[0m                                Traceback (most recent call last)",
      "Cell \u001b[1;32mIn[69], line 49\u001b[0m\n\u001b[0;32m     47\u001b[0m \u001b[38;5;66;03m# Create DataFrame if data_dict is not empty\u001b[39;00m\n\u001b[0;32m     48\u001b[0m \u001b[38;5;28;01mif\u001b[39;00m data_dict:\n\u001b[1;32m---> 49\u001b[0m     df \u001b[38;5;241m=\u001b[39m pd\u001b[38;5;241m.\u001b[39mDataFrame(data_dict)\n\u001b[0;32m     51\u001b[0m \u001b[38;5;28mprint\u001b[39m(df)\n",
      "File \u001b[1;32mc:\\Users\\Admin\\anaconda3\\Lib\\site-packages\\pandas\\core\\frame.py:778\u001b[0m, in \u001b[0;36mDataFrame.__init__\u001b[1;34m(self, data, index, columns, dtype, copy)\u001b[0m\n\u001b[0;32m    772\u001b[0m     mgr \u001b[38;5;241m=\u001b[39m \u001b[38;5;28mself\u001b[39m\u001b[38;5;241m.\u001b[39m_init_mgr(\n\u001b[0;32m    773\u001b[0m         data, axes\u001b[38;5;241m=\u001b[39m{\u001b[38;5;124m\"\u001b[39m\u001b[38;5;124mindex\u001b[39m\u001b[38;5;124m\"\u001b[39m: index, \u001b[38;5;124m\"\u001b[39m\u001b[38;5;124mcolumns\u001b[39m\u001b[38;5;124m\"\u001b[39m: columns}, dtype\u001b[38;5;241m=\u001b[39mdtype, copy\u001b[38;5;241m=\u001b[39mcopy\n\u001b[0;32m    774\u001b[0m     )\n\u001b[0;32m    776\u001b[0m \u001b[38;5;28;01melif\u001b[39;00m \u001b[38;5;28misinstance\u001b[39m(data, \u001b[38;5;28mdict\u001b[39m):\n\u001b[0;32m    777\u001b[0m     \u001b[38;5;66;03m# GH#38939 de facto copy defaults to False only in non-dict cases\u001b[39;00m\n\u001b[1;32m--> 778\u001b[0m     mgr \u001b[38;5;241m=\u001b[39m dict_to_mgr(data, index, columns, dtype\u001b[38;5;241m=\u001b[39mdtype, copy\u001b[38;5;241m=\u001b[39mcopy, typ\u001b[38;5;241m=\u001b[39mmanager)\n\u001b[0;32m    779\u001b[0m \u001b[38;5;28;01melif\u001b[39;00m \u001b[38;5;28misinstance\u001b[39m(data, ma\u001b[38;5;241m.\u001b[39mMaskedArray):\n\u001b[0;32m    780\u001b[0m     \u001b[38;5;28;01mfrom\u001b[39;00m \u001b[38;5;21;01mnumpy\u001b[39;00m\u001b[38;5;21;01m.\u001b[39;00m\u001b[38;5;21;01mma\u001b[39;00m \u001b[38;5;28;01mimport\u001b[39;00m mrecords\n",
      "File \u001b[1;32mc:\\Users\\Admin\\anaconda3\\Lib\\site-packages\\pandas\\core\\internals\\construction.py:503\u001b[0m, in \u001b[0;36mdict_to_mgr\u001b[1;34m(data, index, columns, dtype, typ, copy)\u001b[0m\n\u001b[0;32m    499\u001b[0m     \u001b[38;5;28;01melse\u001b[39;00m:\n\u001b[0;32m    500\u001b[0m         \u001b[38;5;66;03m# dtype check to exclude e.g. range objects, scalars\u001b[39;00m\n\u001b[0;32m    501\u001b[0m         arrays \u001b[38;5;241m=\u001b[39m [x\u001b[38;5;241m.\u001b[39mcopy() \u001b[38;5;28;01mif\u001b[39;00m \u001b[38;5;28mhasattr\u001b[39m(x, \u001b[38;5;124m\"\u001b[39m\u001b[38;5;124mdtype\u001b[39m\u001b[38;5;124m\"\u001b[39m) \u001b[38;5;28;01melse\u001b[39;00m x \u001b[38;5;28;01mfor\u001b[39;00m x \u001b[38;5;129;01min\u001b[39;00m arrays]\n\u001b[1;32m--> 503\u001b[0m \u001b[38;5;28;01mreturn\u001b[39;00m arrays_to_mgr(arrays, columns, index, dtype\u001b[38;5;241m=\u001b[39mdtype, typ\u001b[38;5;241m=\u001b[39mtyp, consolidate\u001b[38;5;241m=\u001b[39mcopy)\n",
      "File \u001b[1;32mc:\\Users\\Admin\\anaconda3\\Lib\\site-packages\\pandas\\core\\internals\\construction.py:114\u001b[0m, in \u001b[0;36marrays_to_mgr\u001b[1;34m(arrays, columns, index, dtype, verify_integrity, typ, consolidate)\u001b[0m\n\u001b[0;32m    111\u001b[0m \u001b[38;5;28;01mif\u001b[39;00m verify_integrity:\n\u001b[0;32m    112\u001b[0m     \u001b[38;5;66;03m# figure out the index, if necessary\u001b[39;00m\n\u001b[0;32m    113\u001b[0m     \u001b[38;5;28;01mif\u001b[39;00m index \u001b[38;5;129;01mis\u001b[39;00m \u001b[38;5;28;01mNone\u001b[39;00m:\n\u001b[1;32m--> 114\u001b[0m         index \u001b[38;5;241m=\u001b[39m _extract_index(arrays)\n\u001b[0;32m    115\u001b[0m     \u001b[38;5;28;01melse\u001b[39;00m:\n\u001b[0;32m    116\u001b[0m         index \u001b[38;5;241m=\u001b[39m ensure_index(index)\n",
      "File \u001b[1;32mc:\\Users\\Admin\\anaconda3\\Lib\\site-packages\\pandas\\core\\internals\\construction.py:677\u001b[0m, in \u001b[0;36m_extract_index\u001b[1;34m(data)\u001b[0m\n\u001b[0;32m    675\u001b[0m lengths \u001b[38;5;241m=\u001b[39m \u001b[38;5;28mlist\u001b[39m(\u001b[38;5;28mset\u001b[39m(raw_lengths))\n\u001b[0;32m    676\u001b[0m \u001b[38;5;28;01mif\u001b[39;00m \u001b[38;5;28mlen\u001b[39m(lengths) \u001b[38;5;241m>\u001b[39m \u001b[38;5;241m1\u001b[39m:\n\u001b[1;32m--> 677\u001b[0m     \u001b[38;5;28;01mraise\u001b[39;00m \u001b[38;5;167;01mValueError\u001b[39;00m(\u001b[38;5;124m\"\u001b[39m\u001b[38;5;124mAll arrays must be of the same length\u001b[39m\u001b[38;5;124m\"\u001b[39m)\n\u001b[0;32m    679\u001b[0m \u001b[38;5;28;01mif\u001b[39;00m have_dicts:\n\u001b[0;32m    680\u001b[0m     \u001b[38;5;28;01mraise\u001b[39;00m \u001b[38;5;167;01mValueError\u001b[39;00m(\n\u001b[0;32m    681\u001b[0m         \u001b[38;5;124m\"\u001b[39m\u001b[38;5;124mMixing dicts with non-Series may lead to ambiguous ordering.\u001b[39m\u001b[38;5;124m\"\u001b[39m\n\u001b[0;32m    682\u001b[0m     )\n",
      "\u001b[1;31mValueError\u001b[0m: All arrays must be of the same length"
     ]
    }
   ],
   "source": [
    "import pandas as pd\n",
    "from scipy.io import loadmat\n",
    "\n",
    "# .mat 파일 불러오기\n",
    "file_path = 'C:\\\\Users\\\\Admin\\Downloads\\\\5.+Battery+Data+Set\\\\5. Battery Data Set\\\\3. BatteryAgingARC_25-44\\\\B0029.mat'  # 실제 파일 경로로 변경\n",
    "data = loadmat(file_path)\n",
    "\n",
    "# 'B0049' 항목 접근\n",
    "data_b0029 = data['B0029']\n",
    "\n",
    "# 'cycle' -> 'data' 부분 접근\n",
    "data_entries = data_b0029[0, 0]['cycle'][0][0]['data']\n",
    "\n",
    "# Define data dictionary based on available fields in data_entries\n",
    "data_dict = {}\n",
    "\n",
    "# Check for and add each field only if it exists\n",
    "if 'Voltage_measured' in data_entries.dtype.names:\n",
    "    data_dict[\"Voltage_measured\"] = data_entries['Voltage_measured'][0][0].flatten()\n",
    "if 'Current_measured' in data_entries.dtype.names:\n",
    "    data_dict[\"Current_measured\"] = data_entries['Current_measured'][0][0].flatten()\n",
    "if 'Temperature_measured' in data_entries.dtype.names:\n",
    "    data_dict[\"Temperature_measured\"] = data_entries['Temperature_measured'][0][0].flatten()\n",
    "if 'Current_charge' in data_entries.dtype.names:\n",
    "    data_dict[\"Current_charge\"] = data_entries['Current_charge'][0][0].flatten()\n",
    "if 'Voltage_charge' in data_entries.dtype.names:\n",
    "    data_dict[\"Voltage_charge\"] = data_entries['Voltage_charge'][0][0].flatten()\n",
    "if 'Time' in data_entries.dtype.names:\n",
    "    data_dict[\"Time\"] = data_entries['Time'][0][0].flatten()\n",
    "if 'Capacity' in data_entries.dtype.names:\n",
    "    data_dict[\"Capacity\"] = data_entries['Capacity'][0][0].flatten()\n",
    "if 'Sense_current' in data_entries.dtype.names:\n",
    "    data_dict[\"Sense_current\"] = data_entries['Sense_current'][0][0].flatten()\n",
    "if 'Battery_current' in data_entries.dtype.names:\n",
    "    data_dict[\"Battery_current\"] = data_entries['Battery_current'][0][0].flatten()\n",
    "if 'Current_ratio' in data_entries.dtype.names:\n",
    "    data_dict[\"Current_ratio\"] = data_entries['Current_ratio'][0][0].flatten()\n",
    "if 'Battery_impedance' in data_entries.dtype.names:\n",
    "    data_dict[\"Battery_impedance\"] = data_entries['Battery_impedance'][0][0].flatten()\n",
    "if 'Rectified_impedance' in data_entries.dtype.names:\n",
    "    data_dict[\"Rectified_impedance\"] = data_entries['Rectified_impedance'][0][0].flatten()\n",
    "if 'Re' in data_entries.dtype.names:\n",
    "    data_dict[\"Re\"] = data_entries['Re'][0][0].flatten()\n",
    "if 'Rct' in data_entries.dtype.names:\n",
    "    data_dict[\"Rct\"] = data_entries['Rct'][0][0].flatten()\n",
    "\n",
    "# Create DataFrame if data_dict is not empty\n",
    "if data_dict:\n",
    "    df = pd.DataFrame(data_dict)"
   ]
  },
  {
   "cell_type": "code",
   "execution_count": 68,
   "metadata": {},
   "outputs": [
    {
     "name": "stdout",
     "output_type": "stream",
     "text": [
      "            Sense_current         Battery_current       Current_ratio  \\\n",
      "0  864.849915- 33.304897j  292.906494- 84.523552j  2.755966+0.681580j   \n",
      "\n",
      "    Battery_impedance        Re       Rct  \n",
      "0  0.142920-0.119109j  0.050642  0.105922  \n"
     ]
    }
   ],
   "source": [
    "# Determine the minimum length of arrays in data_dict\n",
    "min_length = min([len(arr) for arr in data_dict.values()])\n",
    "\n",
    "# Truncate all arrays to the minimum length\n",
    "for key in data_dict:\n",
    "    data_dict[key] = data_dict[key][:min_length]\n",
    "\n",
    "# Create DataFrame\n",
    "df = pd.DataFrame(data_dict)\n",
    "\n",
    "print(df)\n"
   ]
  },
  {
   "cell_type": "code",
   "execution_count": 66,
   "metadata": {},
   "outputs": [
    {
     "name": "stdout",
     "output_type": "stream",
     "text": [
      "DataFrame이 CSV 파일로 저장되었습니다: C:\\LEE\\SOH\\SOH44.csv\n"
     ]
    }
   ],
   "source": [
    "# DataFrame을 CSV 파일로 저장\n",
    "output_file_path = 'C:\\\\LEE\\\\SOH\\\\SOH44.csv'  # 저장할 CSV 파일 경로와 이름 지정\n",
    "df.to_csv(output_file_path, index=False)\n",
    "\n",
    "print(f\"DataFrame이 CSV 파일로 저장되었습니다: {output_file_path}\")"
   ]
  }
 ],
 "metadata": {
  "kernelspec": {
   "display_name": "base",
   "language": "python",
   "name": "python3"
  },
  "language_info": {
   "codemirror_mode": {
    "name": "ipython",
    "version": 3
   },
   "file_extension": ".py",
   "mimetype": "text/x-python",
   "name": "python",
   "nbconvert_exporter": "python",
   "pygments_lexer": "ipython3",
   "version": "3.12.4"
  }
 },
 "nbformat": 4,
 "nbformat_minor": 2
}
