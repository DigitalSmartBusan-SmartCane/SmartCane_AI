{
 "cells": [
  {
   "cell_type": "code",
   "execution_count": null,
   "metadata": {},
   "outputs": [],
   "source": [
    "# 필요한 라이브러리 불러오기\n",
    "from scipy.io import loadmat\n",
    "\n",
    "# .mat 파일 경로 지정\n",
    "file_path = 'C:\\\\Users\\\\Admin\\\\Documents\\\\5. BatteryAgingARC_49_50_51_52\\\\B0049.mat'  # .mat 파일의 경로를 입력하세요\n",
    "\n",
    "# .mat 파일 로드\n",
    "data = loadmat(file_path)\n",
    "\n",
    "# 데이터 출력\n",
    "for key, value in data.items():\n",
    "    # __로 시작하는 키는 무시\n",
    "    if not key.startswith('__'):\n",
    "        print(f\"{key}: {value}\")\n"
   ]
  },
  {
   "cell_type": "code",
   "execution_count": null,
   "metadata": {},
   "outputs": [],
   "source": [
    "import pandas as pd\n",
    "from scipy.io import loadmat\n",
    "\n",
    "# .mat 파일 불러오기\n",
    "file_path = 'C:\\\\Users\\\\Admin\\\\Documents\\\\5. BatteryAgingARC_49_50_51_52\\\\B0049.mat'  # 실제 파일 경로로 변경\n",
    "data = loadmat(file_path)\n",
    "\n",
    "# 데이터프레임으로 변환\n",
    "# 데이터가 'B0049'라는 키에 저장되어 있다고 가정하고, 필요에 따라 키 이름을 조정하세요.\n",
    "key = 'B0049'  # 데이터가 저장된 키 이름\n",
    "data_dict = data[key].squeeze()  # 데이터 형식에 따라 필요시 .squeeze() 제거\n",
    "\n",
    "# 데이터를 pandas DataFrame으로 변환\n",
    "# 열 이름은 데이터에 따라 다를 수 있으니 적절히 변경해주세요.\n",
    "df = pd.DataFrame(data_dict, columns=[\"Sense_current\", \"Battery_current\", \"Current_ratio\", \"Battery_impedance\", \n",
    "                                      \"Rectified_Impedance\", \"Re\", \"Rct\"])\n",
    "\n",
    "# 데이터프레임 확인\n",
    "df.head()\n"
   ]
  },
  {
   "cell_type": "code",
   "execution_count": null,
   "metadata": {},
   "outputs": [],
   "source": [
    "# .mat 파일 구조 확인 코드\n",
    "from scipy.io import loadmat\n",
    "\n",
    "file_path = 'C:\\\\Users\\\\Admin\\\\Documents\\\\5. BatteryAgingARC_49_50_51_52\\\\B0049.mat'  # 실제 파일 경로로 변경\n",
    "data = loadmat(file_path)\n",
    "\n",
    "# 데이터 구조 확인\n",
    "for key in data:\n",
    "    print(f\"{key}: {type(data[key])}\")\n"
   ]
  },
  {
   "cell_type": "code",
   "execution_count": null,
   "metadata": {},
   "outputs": [],
   "source": [
    "# 'B0049'의 상세 구조 확인\n",
    "import numpy as np\n",
    "\n",
    "data_b0049 = data['B0049']\n",
    "print(type(data_b0049))\n",
    "print(data_b0049.shape)\n",
    "print(data_b0049.dtype)\n",
    "\n",
    "# 데이터 미리보기\n",
    "print(data_b0049)\n"
   ]
  },
  {
   "cell_type": "code",
   "execution_count": null,
   "metadata": {},
   "outputs": [],
   "source": [
    "import pandas as pd\n",
    "from scipy.io import loadmat\n",
    "\n",
    "# .mat 파일 불러오기\n",
    "file_path = 'C:\\\\Users\\\\Admin\\\\Documents\\\\5. BatteryAgingARC_49_50_51_52\\\\B0049.mat'  # 실제 파일 경로로 변경\n",
    "data = loadmat(file_path)\n",
    "\n",
    "# 'B0049' 항목 접근\n",
    "data_b0049 = data['B0049']\n",
    "\n",
    "# 'cycle' -> 'data' 부분 접근\n",
    "data_entries = data_b0049[0, 0]['cycle'][0][0]['data']\n",
    "\n",
    "# 'data' 필드에서 각 변수의 데이터를 추출하여 DataFrame으로 변환\n",
    "# 데이터 필드 이름에 맞춰 DataFrame 생성\n",
    "data_dict = {\n",
    "    \"Sense_current\": data_entries['Sense_current'][0][0].flatten(),\n",
    "    \"Battery_current\": data_entries['Battery_current'][0][0].flatten(),\n",
    "    \"Current_ratio\": data_entries['Current_ratio'][0][0].flatten(),\n",
    "    \"Battery_impedance\": data_entries['Battery_impedance'][0][0].flatten(),\n",
    "    \"Rectified_Impedance\": data_entries['Rectified_Impedance'][0][0].flatten(),\n",
    "    \"Re\": data_entries['Re'][0][0].flatten(),\n",
    "    \"Rct\": data_entries['Rct'][0][0].flatten()\n",
    "}\n",
    "\n",
    "# DataFrame 생성\n",
    "df = pd.DataFrame(data_dict)\n",
    "\n",
    "# DataFrame 미리보기\n",
    "print(df.head())\n"
   ]
  },
  {
   "cell_type": "code",
   "execution_count": null,
   "metadata": {},
   "outputs": [],
   "source": [
    "# 'data' 필드 내부 구조 확인\n",
    "print(data_entries.dtype.names)\n"
   ]
  },
  {
   "cell_type": "code",
   "execution_count": null,
   "metadata": {},
   "outputs": [],
   "source": [
    "import pandas as pd\n",
    "from scipy.io import loadmat\n",
    "\n",
    "# .mat 파일 불러오기\n",
    "file_path = 'C:\\\\Users\\\\Admin\\\\Documents\\\\5. BatteryAgingARC_49_50_51_52\\\\B0049.mat'  # 실제 파일 경로로 변경\n",
    "data = loadmat(file_path)\n",
    "\n",
    "# 'B0049' 항목 접근\n",
    "data_b0049 = data['B0049']\n",
    "\n",
    "# 'cycle' -> 'data' 부분 접근\n",
    "data_entries = data_b0049[0, 0]['cycle'][0][0]['data']\n",
    "\n",
    "# 'data' 필드에서 각 변수의 데이터를 추출하여 DataFrame으로 변환\n",
    "data_dict = {\n",
    "    \"Voltage_measured\": data_entries['Voltage_measured'][0][0].flatten(),\n",
    "    \"Current_measured\": data_entries['Current_measured'][0][0].flatten(),\n",
    "    \"Temperature_measured\": data_entries['Temperature_measured'][0][0].flatten(),\n",
    "    \"Current_load\": data_entries['Current_load'][0][0].flatten(),\n",
    "    \"Voltage_load\": data_entries['Voltage_load'][0][0].flatten(),\n",
    "    \"Time\": data_entries['Time'][0][0].flatten(),\n",
    "    \"Capacity\": data_entries['Capacity'][0][0].flatten()\n",
    "}\n",
    "\n",
    "# DataFrame 생성\n",
    "df = pd.DataFrame(data_dict)\n",
    "\n",
    "# DataFrame 미리보기\n",
    "print(df.head())\n"
   ]
  },
  {
   "cell_type": "code",
   "execution_count": null,
   "metadata": {},
   "outputs": [],
   "source": [
    "# 각 필드의 길이 확인\n",
    "for field in data_entries.dtype.names:\n",
    "    print(f\"{field}: {len(data_entries[field][0][0].flatten())}\")\n"
   ]
  },
  {
   "cell_type": "code",
   "execution_count": 9,
   "metadata": {},
   "outputs": [
    {
     "name": "stdout",
     "output_type": "stream",
     "text": [
      "   Voltage_measured  Current_measured  Temperature_measured  Current_load  \\\n",
      "0          3.845491         -0.000871              9.292640        0.0000   \n",
      "1          3.846229         -0.000953              9.298541        0.0000   \n",
      "2          3.482747         -2.009770              9.276107        1.9972   \n",
      "3          3.457383         -2.014587              9.293920        1.9972   \n",
      "4          3.435800         -2.012538              9.296387        1.9972   \n",
      "\n",
      "   Voltage_load    Time  \n",
      "0         0.000   0.000  \n",
      "1         3.860   9.313  \n",
      "2         2.511  19.406  \n",
      "3         2.486  28.797  \n",
      "4         2.462  38.141  \n"
     ]
    }
   ],
   "source": [
    "import pandas as pd\n",
    "from scipy.io import loadmat\n",
    "\n",
    "# .mat 파일 불러오기\n",
    "file_path = 'C:\\\\Users\\\\Admin\\\\Documents\\\\5. BatteryAgingARC_49_50_51_52\\\\B0049.mat'  # 실제 파일 경로로 변경\n",
    "data = loadmat(file_path)\n",
    "\n",
    "# 'B0049' 항목 접근\n",
    "data_b0049 = data['B0049']\n",
    "\n",
    "# 'cycle' -> 'data' 부분 접근\n",
    "data_entries = data_b0049[0, 0]['cycle'][0][0]['data']\n",
    "\n",
    "# 'Capacity' 필드를 제외하고 나머지 필드를 추출하여 DataFrame으로 변환\n",
    "data_dict = {\n",
    "    \"Voltage_measured\": data_entries['Voltage_measured'][0][0].flatten(),\n",
    "    \"Current_measured\": data_entries['Current_measured'][0][0].flatten(),\n",
    "    \"Temperature_measured\": data_entries['Temperature_measured'][0][0].flatten(),\n",
    "    \"Current_load\": data_entries['Current_load'][0][0].flatten(),\n",
    "    \"Voltage_load\": data_entries['Voltage_load'][0][0].flatten(),\n",
    "    \"Time\": data_entries['Time'][0][0].flatten()\n",
    "}\n",
    "\n",
    "# DataFrame 생성\n",
    "df = pd.DataFrame(data_dict)\n",
    "\n",
    "# DataFrame 미리보기\n",
    "print(df.head())\n"
   ]
  },
  {
   "cell_type": "code",
   "execution_count": null,
   "metadata": {},
   "outputs": [],
   "source": [
    "# DataFrame을 CSV 파일로 저장\n",
    "output_file_path = 'C:\\\\LEE\\\\SOH.csv'  # 저장할 CSV 파일 경로와 이름 지정\n",
    "df.to_csv(output_file_path, index=False)\n",
    "\n",
    "print(f\"DataFrame이 CSV 파일로 저장되었습니다: {output_file_path}\")\n"
   ]
  },
  {
   "cell_type": "markdown",
   "metadata": {},
   "source": [
    "# GRU학습"
   ]
  },
  {
   "cell_type": "code",
   "execution_count": 11,
   "metadata": {},
   "outputs": [],
   "source": [
    "import numpy as np\n",
    "import pandas as pd\n",
    "from sklearn.model_selection import train_test_split\n",
    "from sklearn.preprocessing import MinMaxScaler\n",
    "from tensorflow.keras.models import Sequential\n",
    "from tensorflow.keras.layers import GRU, Dense\n",
    "\n",
    "# 예제 데이터셋 생성 (실제 배터리 데이터셋을 불러오면 이 부분을 생략 가능)\n",
    "# 예시 데이터 형태: (온도, 전압, 전류)\n",
    "data = {\n",
    "    'Temperature': np.random.normal(25, 5, 1000),\n",
    "    'Voltage': np.random.normal(3.7, 0.2, 1000),\n",
    "    'Current': np.random.normal(1.5, 0.3, 1000),\n",
    "    'Anomaly': np.random.randint(0, 2, 1000)  # 0: 정상, 1: 비정상\n",
    "}\n",
    "df = pd.DataFrame(data)\n",
    "\n",
    "# 특성과 타겟 변수 분리\n",
    "X = df[['Temperature', 'Voltage', 'Current']].values\n",
    "y = df['Anomaly'].values\n",
    "\n",
    "# 데이터 정규화\n",
    "scaler = MinMaxScaler()\n",
    "X = scaler.fit_transform(X)\n",
    "\n",
    "# 시계열 데이터로 변환 (GRU 입력은 3D 형태: [samples, time steps, features])\n",
    "time_steps = 10\n",
    "X_series = []\n",
    "y_series = []\n",
    "\n",
    "for i in range(len(X) - time_steps):\n",
    "    X_series.append(X[i:i + time_steps])\n",
    "    y_series.append(y[i + time_steps])\n",
    "\n",
    "X_series, y_series = np.array(X_series), np.array(y_series)\n",
    "\n",
    "# 훈련/테스트 데이터 분리\n",
    "X_train, X_test, y_train, y_test = train_test_split(X_series, y_series, test_size=0.2, random_state=42)\n"
   ]
  },
  {
   "cell_type": "code",
   "execution_count": 12,
   "metadata": {},
   "outputs": [
    {
     "name": "stdout",
     "output_type": "stream",
     "text": [
      "Epoch 1/20\n"
     ]
    },
    {
     "name": "stderr",
     "output_type": "stream",
     "text": [
      "c:\\Users\\Admin\\anaconda3\\Lib\\site-packages\\keras\\src\\layers\\rnn\\rnn.py:204: UserWarning: Do not pass an `input_shape`/`input_dim` argument to a layer. When using Sequential models, prefer using an `Input(shape)` object as the first layer in the model instead.\n",
      "  super().__init__(**kwargs)\n"
     ]
    },
    {
     "name": "stdout",
     "output_type": "stream",
     "text": [
      "\u001b[1m23/23\u001b[0m \u001b[32m━━━━━━━━━━━━━━━━━━━━\u001b[0m\u001b[37m\u001b[0m \u001b[1m5s\u001b[0m 52ms/step - accuracy: 0.5389 - loss: 0.6932 - val_accuracy: 0.4375 - val_loss: 0.7012\n",
      "Epoch 2/20\n",
      "\u001b[1m23/23\u001b[0m \u001b[32m━━━━━━━━━━━━━━━━━━━━\u001b[0m\u001b[37m\u001b[0m \u001b[1m0s\u001b[0m 10ms/step - accuracy: 0.4814 - loss: 0.6959 - val_accuracy: 0.5625 - val_loss: 0.6893\n",
      "Epoch 3/20\n",
      "\u001b[1m23/23\u001b[0m \u001b[32m━━━━━━━━━━━━━━━━━━━━\u001b[0m\u001b[37m\u001b[0m \u001b[1m0s\u001b[0m 14ms/step - accuracy: 0.4676 - loss: 0.6957 - val_accuracy: 0.5625 - val_loss: 0.6877\n",
      "Epoch 4/20\n",
      "\u001b[1m23/23\u001b[0m \u001b[32m━━━━━━━━━━━━━━━━━━━━\u001b[0m\u001b[37m\u001b[0m \u001b[1m0s\u001b[0m 12ms/step - accuracy: 0.5014 - loss: 0.6946 - val_accuracy: 0.5625 - val_loss: 0.6888\n",
      "Epoch 5/20\n",
      "\u001b[1m23/23\u001b[0m \u001b[32m━━━━━━━━━━━━━━━━━━━━\u001b[0m\u001b[37m\u001b[0m \u001b[1m0s\u001b[0m 12ms/step - accuracy: 0.5454 - loss: 0.6897 - val_accuracy: 0.5875 - val_loss: 0.6925\n",
      "Epoch 6/20\n",
      "\u001b[1m23/23\u001b[0m \u001b[32m━━━━━━━━━━━━━━━━━━━━\u001b[0m\u001b[37m\u001b[0m \u001b[1m1s\u001b[0m 25ms/step - accuracy: 0.5198 - loss: 0.6916 - val_accuracy: 0.5625 - val_loss: 0.6904\n",
      "Epoch 7/20\n",
      "\u001b[1m23/23\u001b[0m \u001b[32m━━━━━━━━━━━━━━━━━━━━\u001b[0m\u001b[37m\u001b[0m \u001b[1m0s\u001b[0m 14ms/step - accuracy: 0.5391 - loss: 0.6908 - val_accuracy: 0.5625 - val_loss: 0.6905\n",
      "Epoch 8/20\n",
      "\u001b[1m23/23\u001b[0m \u001b[32m━━━━━━━━━━━━━━━━━━━━\u001b[0m\u001b[37m\u001b[0m \u001b[1m0s\u001b[0m 12ms/step - accuracy: 0.5072 - loss: 0.6923 - val_accuracy: 0.5625 - val_loss: 0.6888\n",
      "Epoch 9/20\n",
      "\u001b[1m23/23\u001b[0m \u001b[32m━━━━━━━━━━━━━━━━━━━━\u001b[0m\u001b[37m\u001b[0m \u001b[1m0s\u001b[0m 11ms/step - accuracy: 0.4901 - loss: 0.6933 - val_accuracy: 0.5625 - val_loss: 0.6920\n",
      "Epoch 10/20\n",
      "\u001b[1m23/23\u001b[0m \u001b[32m━━━━━━━━━━━━━━━━━━━━\u001b[0m\u001b[37m\u001b[0m \u001b[1m0s\u001b[0m 9ms/step - accuracy: 0.5090 - loss: 0.6920 - val_accuracy: 0.5625 - val_loss: 0.6899\n",
      "Epoch 11/20\n",
      "\u001b[1m23/23\u001b[0m \u001b[32m━━━━━━━━━━━━━━━━━━━━\u001b[0m\u001b[37m\u001b[0m \u001b[1m0s\u001b[0m 12ms/step - accuracy: 0.5119 - loss: 0.6925 - val_accuracy: 0.5625 - val_loss: 0.6899\n",
      "Epoch 12/20\n",
      "\u001b[1m23/23\u001b[0m \u001b[32m━━━━━━━━━━━━━━━━━━━━\u001b[0m\u001b[37m\u001b[0m \u001b[1m0s\u001b[0m 12ms/step - accuracy: 0.5277 - loss: 0.6923 - val_accuracy: 0.5375 - val_loss: 0.6928\n",
      "Epoch 13/20\n",
      "\u001b[1m23/23\u001b[0m \u001b[32m━━━━━━━━━━━━━━━━━━━━\u001b[0m\u001b[37m\u001b[0m \u001b[1m0s\u001b[0m 14ms/step - accuracy: 0.4896 - loss: 0.6929 - val_accuracy: 0.5625 - val_loss: 0.6883\n",
      "Epoch 14/20\n",
      "\u001b[1m23/23\u001b[0m \u001b[32m━━━━━━━━━━━━━━━━━━━━\u001b[0m\u001b[37m\u001b[0m \u001b[1m0s\u001b[0m 12ms/step - accuracy: 0.4735 - loss: 0.6978 - val_accuracy: 0.5750 - val_loss: 0.6905\n",
      "Epoch 15/20\n",
      "\u001b[1m23/23\u001b[0m \u001b[32m━━━━━━━━━━━━━━━━━━━━\u001b[0m\u001b[37m\u001b[0m \u001b[1m0s\u001b[0m 9ms/step - accuracy: 0.5177 - loss: 0.6913 - val_accuracy: 0.5750 - val_loss: 0.6900\n",
      "Epoch 16/20\n",
      "\u001b[1m23/23\u001b[0m \u001b[32m━━━━━━━━━━━━━━━━━━━━\u001b[0m\u001b[37m\u001b[0m \u001b[1m0s\u001b[0m 10ms/step - accuracy: 0.5287 - loss: 0.6887 - val_accuracy: 0.5625 - val_loss: 0.6934\n",
      "Epoch 17/20\n",
      "\u001b[1m23/23\u001b[0m \u001b[32m━━━━━━━━━━━━━━━━━━━━\u001b[0m\u001b[37m\u001b[0m \u001b[1m0s\u001b[0m 10ms/step - accuracy: 0.5768 - loss: 0.6904 - val_accuracy: 0.5375 - val_loss: 0.6952\n",
      "Epoch 18/20\n",
      "\u001b[1m23/23\u001b[0m \u001b[32m━━━━━━━━━━━━━━━━━━━━\u001b[0m\u001b[37m\u001b[0m \u001b[1m0s\u001b[0m 10ms/step - accuracy: 0.5491 - loss: 0.6891 - val_accuracy: 0.5125 - val_loss: 0.6949\n",
      "Epoch 19/20\n",
      "\u001b[1m23/23\u001b[0m \u001b[32m━━━━━━━━━━━━━━━━━━━━\u001b[0m\u001b[37m\u001b[0m \u001b[1m0s\u001b[0m 10ms/step - accuracy: 0.5157 - loss: 0.6926 - val_accuracy: 0.5375 - val_loss: 0.6928\n",
      "Epoch 20/20\n",
      "\u001b[1m23/23\u001b[0m \u001b[32m━━━━━━━━━━━━━━━━━━━━\u001b[0m\u001b[37m\u001b[0m \u001b[1m0s\u001b[0m 11ms/step - accuracy: 0.5500 - loss: 0.6874 - val_accuracy: 0.5000 - val_loss: 0.6957\n"
     ]
    }
   ],
   "source": [
    "# GRU 모델 구성\n",
    "model = Sequential([\n",
    "    GRU(64, input_shape=(X_train.shape[1], X_train.shape[2]), return_sequences=True),\n",
    "    GRU(32, return_sequences=False),\n",
    "    Dense(1, activation='sigmoid')  # 이진 분류용 시그모이드 활성화 함수\n",
    "])\n",
    "\n",
    "# 모델 컴파일\n",
    "model.compile(optimizer='adam', loss='binary_crossentropy', metrics=['accuracy'])\n",
    "\n",
    "# 모델 학습\n",
    "history = model.fit(X_train, y_train, epochs=20, batch_size=32, validation_split=0.1)\n"
   ]
  },
  {
   "cell_type": "code",
   "execution_count": 13,
   "metadata": {},
   "outputs": [
    {
     "name": "stdout",
     "output_type": "stream",
     "text": [
      "\u001b[1m7/7\u001b[0m \u001b[32m━━━━━━━━━━━━━━━━━━━━\u001b[0m\u001b[37m\u001b[0m \u001b[1m0s\u001b[0m 3ms/step - accuracy: 0.4735 - loss: 0.6968 \n",
      "Test Loss: 0.6921107172966003, Test Accuracy: 0.5303030014038086\n",
      "\u001b[1m7/7\u001b[0m \u001b[32m━━━━━━━━━━━━━━━━━━━━\u001b[0m\u001b[37m\u001b[0m \u001b[1m1s\u001b[0m 59ms/step\n"
     ]
    }
   ],
   "source": [
    "# 모델 평가\n",
    "loss, accuracy = model.evaluate(X_test, y_test)\n",
    "print(f\"Test Loss: {loss}, Test Accuracy: {accuracy}\")\n",
    "\n",
    "# 샘플 예측\n",
    "y_pred = (model.predict(X_test) > 0.5).astype(int)\n"
   ]
  }
 ],
 "metadata": {
  "kernelspec": {
   "display_name": "base",
   "language": "python",
   "name": "python3"
  },
  "language_info": {
   "codemirror_mode": {
    "name": "ipython",
    "version": 3
   },
   "file_extension": ".py",
   "mimetype": "text/x-python",
   "name": "python",
   "nbconvert_exporter": "python",
   "pygments_lexer": "ipython3",
   "version": "3.12.4"
  }
 },
 "nbformat": 4,
 "nbformat_minor": 2
}
