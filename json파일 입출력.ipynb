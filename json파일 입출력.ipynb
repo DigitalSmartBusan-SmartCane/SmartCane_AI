{
 "cells": [
  {
   "cell_type": "code",
   "execution_count": 1,
   "metadata": {},
   "outputs": [],
   "source": [
    "import json\n",
    "import numpy as np\n",
    "from tensorflow.keras.models import load_model\n",
    "\n",
    "# 저장된 모델 로드\n",
    "model_path = 'lstm_b000(5,6,7,18).keras'\n",
    "model = load_model(model_path)"
   ]
  },
  {
   "cell_type": "code",
   "execution_count": 2,
   "metadata": {},
   "outputs": [
    {
     "name": "stdout",
     "output_type": "stream",
     "text": [
      "\u001b[1m1/1\u001b[0m \u001b[32m━━━━━━━━━━━━━━━━━━━━\u001b[0m\u001b[37m\u001b[0m \u001b[1m0s\u001b[0m 425ms/step\n",
      "결과가 output.json에 저장되었습니다.\n"
     ]
    }
   ],
   "source": [
    "# JSON 파일 읽기 함수\n",
    "def read_json(file_path):\n",
    "    with open(file_path, 'r') as file:\n",
    "        data = json.load(file)\n",
    "    return data\n",
    "\n",
    "# JSON 파일 저장 함수\n",
    "def write_json(data, file_path):\n",
    "    with open(file_path, 'w') as file:\n",
    "        json.dump(data, file, indent=4)\n",
    "\n",
    "# 모델로 데이터를 처리하는 함수\n",
    "def process_with_model(model, input_json_path, output_json_path):\n",
    "    # 입력 데이터 읽기\n",
    "    input_data = read_json(input_json_path)\n",
    "    # 모델 입력 형식에 맞게 데이터 전처리 (배열 형태로 변환)\n",
    "    temperature = input_data.get('temperature', 0)\n",
    "    current = input_data.get('current', 0)\n",
    "    voltage = input_data.get('voltage', 0)\n",
    "\n",
    "    # 모델 입력 데이터 (LSTM 입력 형식에 맞게 3차원 배열로 변환)\n",
    "    input_features = np.array([[temperature, current, voltage]])\n",
    "    input_features = input_features.reshape(1, 1, -1)  # (batch_size, time_steps, features)\n",
    "\n",
    "    # 모델 예측 수행\n",
    "    prediction = model.predict(input_features)\n",
    "    result = prediction.tolist()  # numpy 배열을 JSON 저장 가능한 리스트로 변환\n",
    "\n",
    "    # 결과를 JSON 형식으로 저장\n",
    "    output_data = {\n",
    "        \"input\": input_data,\n",
    "        \"result\": result\n",
    "    }\n",
    "    write_json(output_data, output_json_path)\n",
    "    print(f\"결과가 {output_json_path}에 저장되었습니다.\")\n",
    "\n",
    "# 실행 예제\n",
    "if __name__ == \"__main__\":\n",
    "    input_json = \"input.json\"  # 입력 JSON 파일 경로\n",
    "    output_json = \"output.json\"  # 출력 JSON 파일 경로\n",
    "\n",
    "    # JSON 파일 예제 생성\n",
    "    example_input = {\n",
    "        \"temperature\": 25.3,\n",
    "        \"current\": 1.2,\n",
    "        \"voltage\": 3.7\n",
    "    }\n",
    "    write_json(example_input, input_json)\n",
    "\n",
    "    # 모델 처리 실행\n",
    "    process_with_model(model, input_json, output_json)"
   ]
  }
 ],
 "metadata": {
  "kernelspec": {
   "display_name": "base",
   "language": "python",
   "name": "python3"
  },
  "language_info": {
   "codemirror_mode": {
    "name": "ipython",
    "version": 3
   },
   "file_extension": ".py",
   "mimetype": "text/x-python",
   "name": "python",
   "nbconvert_exporter": "python",
   "pygments_lexer": "ipython3",
   "version": "3.12.4"
  }
 },
 "nbformat": 4,
 "nbformat_minor": 2
}
